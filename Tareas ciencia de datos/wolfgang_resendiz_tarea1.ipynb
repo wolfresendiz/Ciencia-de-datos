{
 "cells": [
  {
   "attachments": {},
   "cell_type": "markdown",
   "metadata": {},
   "source": [
    "# Introducción a la ciencia de datos\n",
    "\n",
    "## Tarea 1 : Temas escenciales de Python\n",
    "\n",
    "### Ejercicio 1\n",
    "\n",
    "Escribe un programa de Python en el que puedas encontrar el máximo valor de una lista o secuencia (utiliza un iterador)."
   ]
  },
  {
   "cell_type": "code",
   "execution_count": 39,
   "metadata": {},
   "outputs": [],
   "source": [
    "def maxfn(x):\n",
    "    if len(x) == 0:\n",
    "        raise ValueError(\"La lista está vacía\")\n",
    "    else:\n",
    "        maximo = x[0]\n",
    "        for i in x:\n",
    "            if i > maximo:\n",
    "              maximo = i\n",
    "    return maximo"
   ]
  },
  {
   "attachments": {},
   "cell_type": "markdown",
   "metadata": {},
   "source": [
    "#### Algunas pruebas"
   ]
  },
  {
   "cell_type": "code",
   "execution_count": 60,
   "metadata": {},
   "outputs": [
    {
     "name": "stdout",
     "output_type": "stream",
     "text": [
      "10000\n",
      "0.9998415449225174\n"
     ]
    }
   ],
   "source": [
    "import random\n",
    "\n",
    "random_numbers = []\n",
    "for i in range(10000):\n",
    "    random_numbers.append(random.random())\n",
    "\n",
    "lista_mil = []\n",
    "for i in range(1, 10001):\n",
    "    numbers.append(i)\n",
    "\n",
    "print(maxfn(numbers))\n",
    "print(maxfn(random_numbers))\n",
    "\n"
   ]
  },
  {
   "attachments": {},
   "cell_type": "markdown",
   "metadata": {},
   "source": [
    "### Ejercicio 2\n",
    "Escribe un programa en el que se cuenta el número de veces en que aparece la letra ‘a’ en la cadena ‘bananas’"
   ]
  },
  {
   "cell_type": "code",
   "execution_count": 63,
   "metadata": {},
   "outputs": [
    {
     "name": "stdout",
     "output_type": "stream",
     "text": [
      "3\n"
     ]
    }
   ],
   "source": [
    "cadena = \"bananas\"\n",
    "x = 0\n",
    "\n",
    "for letra in cadena:\n",
    "    if letra == \"a\":\n",
    "        x += 1\n",
    "\n",
    "print(x)"
   ]
  },
  {
   "attachments": {},
   "cell_type": "markdown",
   "metadata": {},
   "source": [
    "### Ejercicio 3\n",
    "Escribe una función que calcula el valor factorial de cualquier número entero"
   ]
  },
  {
   "cell_type": "code",
   "execution_count": 87,
   "metadata": {},
   "outputs": [],
   "source": [
    "def fnfactorial(n):\n",
    "    resultado = 1\n",
    "    while n > 0:\n",
    "        resultado = resultado * n\n",
    "        n = n-1\n",
    "    return resultado"
   ]
  },
  {
   "attachments": {},
   "cell_type": "markdown",
   "metadata": {},
   "source": [
    "#### Algunas pruebas"
   ]
  },
  {
   "cell_type": "code",
   "execution_count": 93,
   "metadata": {},
   "outputs": [
    {
     "name": "stdout",
     "output_type": "stream",
     "text": [
      "1\n",
      "1\n",
      "2\n",
      "6\n",
      "24\n",
      "120\n",
      "3628800\n",
      "87178291200\n"
     ]
    }
   ],
   "source": [
    "print(fnfactorial(0))\n",
    "print(fnfactorial(1))\n",
    "print(fnfactorial(2))\n",
    "print(fnfactorial(3))\n",
    "print(fnfactorial(4))\n",
    "print(fnfactorial(5))\n",
    "print(fnfactorial(10))\n",
    "print(fnfactorial(14))"
   ]
  },
  {
   "attachments": {},
   "cell_type": "markdown",
   "metadata": {},
   "source": [
    "#### Algunas pruebas"
   ]
  }
 ],
 "metadata": {
  "kernelspec": {
   "display_name": "base",
   "language": "python",
   "name": "python3"
  },
  "language_info": {
   "codemirror_mode": {
    "name": "ipython",
    "version": 3
   },
   "file_extension": ".py",
   "mimetype": "text/x-python",
   "name": "python",
   "nbconvert_exporter": "python",
   "pygments_lexer": "ipython3",
   "version": "3.9.13"
  },
  "orig_nbformat": 4,
  "vscode": {
   "interpreter": {
    "hash": "667312b6d7e1b3946129a753a4b595c62e9be05cab3d0876e3b695e7ac328ea7"
   }
  }
 },
 "nbformat": 4,
 "nbformat_minor": 2
}

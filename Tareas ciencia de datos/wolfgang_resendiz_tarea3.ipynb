{
 "cells": [
  {
   "attachments": {},
   "cell_type": "markdown",
   "metadata": {},
   "source": [
    "# Introducción a la ciencia de datos\n",
    "\n",
    "## Tarea 3 : Algunos ejercicios de Numpy"
   ]
  },
  {
   "attachments": {},
   "cell_type": "markdown",
   "metadata": {},
   "source": [
    "1. \n",
    "- Crea un arreglo con tres elementos y obtén con la función del `sin()` de Numpy los valores correspondientes, los cuales deben ser almacenados en otro vector para ser impresos.\n",
    "- Realiza la misma operación, pero por un camino largo:\n",
    "  - Ejecuta un loop en el que cada uno de los elementos del arreglo inicial es transformado con el `sin()`."
   ]
  },
  {
   "cell_type": "code",
   "execution_count": null,
   "metadata": {},
   "outputs": [],
   "source": [
    "import numpy as np\n",
    "\n",
    "# Vamos a crear un arreglo de 3 elementos\n",
    "\n",
    "arreglo = np.array([90,180,270])\n",
    "sinarreglo = np.sin(arreglo)\n",
    "print(sinarreglo)\n"
   ]
  },
  {
   "attachments": {},
   "cell_type": "markdown",
   "metadata": {},
   "source": [
    "2. \n",
    "\n",
    "- Considera un polinomio de orden N. Escribe un programa con arreglos y métodos de Numpy. \n",
    "- Implementa una función en la que se use el método `cumprod()`. \n",
    "- Invoca a la función asignando un valor a la variable (x) y los coeficientes asociados del polinomio correspondiente (Ojo: si `N = 2`, debe haber tres coeficientes ya que hay un término constante). \n",
    "- Estos coeficientes deben formar parte de un arreglo. \n",
    "- Imprime el valor numérico de la función polinómica. \n",
    "- Con el método de Numpy para la creación y evaluación de polinomios `np.poly1d` checa que el cálculo anterior sea el correcto."
   ]
  },
  {
   "attachments": {},
   "cell_type": "markdown",
   "metadata": {},
   "source": [
    "3. \n",
    "- Crea una matriz (4 x 3) de números enteros generados aleatoriamente entre 0 y 10. \n",
    "- Reemplaza los dos primeros vectores renglón con escalares = 7. \n",
    "- Crea un nuevo arreglo (4 x 1) con puros unos y anéxalo con el método `append()` a la matriz anterior. \n",
    "- Imprime cada uno de los resultados parciales que vas generando"
   ]
  }
 ],
 "metadata": {
  "kernelspec": {
   "display_name": "base",
   "language": "python",
   "name": "python3"
  },
  "language_info": {
   "name": "python",
   "version": "3.9.13"
  },
  "orig_nbformat": 4
 },
 "nbformat": 4,
 "nbformat_minor": 2
}

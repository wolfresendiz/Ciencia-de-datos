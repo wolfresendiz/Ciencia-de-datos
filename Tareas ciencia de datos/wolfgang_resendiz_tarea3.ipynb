{
 "cells": [
  {
   "attachments": {},
   "cell_type": "markdown",
   "metadata": {},
   "source": [
    "# Introducción a la ciencia de datos\n",
    "\n",
    "## Tarea 3 : Algunos ejercicios de Numpy"
   ]
  },
  {
   "attachments": {},
   "cell_type": "markdown",
   "metadata": {},
   "source": [
    "### Ejercicio 1\n",
    "- Crea un arreglo con tres elementos y obtén con la función del `sin()` de Numpy los valores correspondientes, los cuales deben ser almacenados en otro vector para ser impresos.\n",
    "- Realiza la misma operación, pero por un camino largo:\n",
    "  - Ejecuta un loop en el que cada uno de los elementos del arreglo inicial es transformado con el `sin()`.\n"
   ]
  },
  {
   "cell_type": "code",
   "execution_count": 25,
   "metadata": {},
   "outputs": [
    {
     "name": "stdout",
     "output_type": "stream",
     "text": [
      "[0.0000000e+00 1.0000000e+00 1.2246468e-16]\n"
     ]
    }
   ],
   "source": [
    "\n",
    "import numpy as np\n",
    "\n",
    "# Vamos a crear un arreglo de 3 elementos\n",
    "\n",
    "array = np.array([0,90,180])* np.pi/180 # Nota: Convertimos las entradas del arreglo a radianes\n",
    "sinArray = np.sin(array) # Aplicamos la función seno a cada elemento del arreglo\n",
    "print(sinArray) #imprimimos el arreglo sinarreglo\n"
   ]
  },
  {
   "cell_type": "code",
   "execution_count": 35,
   "metadata": {},
   "outputs": [
    {
     "name": "stdout",
     "output_type": "stream",
     "text": [
      "[0.]\n",
      "[0. 1.]\n",
      "[0.0000000e+00 1.0000000e+00 1.2246468e-16]\n"
     ]
    }
   ],
   "source": [
    "# Ahora vamos a resolver el mismo problema por un camino más largo\n",
    "\n",
    "# creamos un np.array vacío\n",
    "sinArrayEmpty = np.array([])\n",
    "\n",
    "for element in array:\n",
    "    sinArrayEmpty = np.append(sinArrayEmpty, np.sin(element)) # agregamos el seno de cada elemento del arreglo array al arreglo sinArrayEmpty\n",
    "    print(sinArrayEmpty) # imprimimos el arreglo sinArrayEmpty para ver como se va llenando\n",
    "\n"
   ]
  },
  {
   "attachments": {},
   "cell_type": "markdown",
   "metadata": {},
   "source": [
    "### Ejercicio 2\n",
    "\n",
    "- Considera un polinomio de orden N. Escribe un programa con arreglos y métodos de Numpy. \n",
    "- Implementa una función en la que se use el método `cumprod()`. \n",
    "  \n",
    "- Invoca a la función asignando un valor a la variable (x) y los coeficientes asociados del polinomio correspondiente (Ojo: si `N = 2`, debe haber tres coeficientes ya que hay un término constante). \n",
    "\n",
    "- Estos coeficientes deben formar parte de un arreglo. \n",
    "- Imprime el valor numérico de la función polinómica. \n",
    "- Con el método de Numpy para la creación y evaluación de polinomios `np.poly1d` checa que el cálculo anterior sea el correcto."
   ]
  },
  {
   "attachments": {},
   "cell_type": "markdown",
   "metadata": {},
   "source": [
    "#### Definiendo la función"
   ]
  },
  {
   "cell_type": "code",
   "execution_count": 99,
   "metadata": {},
   "outputs": [],
   "source": [
    "# Definimos una función que evalúa un polinomio en un punto x0 dado un arreglo de coeficientes del polinomio (ordenados de mayor a menor grado) y un punto x0 en el que se evaluará el polinomio (x0 es un número real).\n",
    "\n",
    "def evaluarPolinomio(coeficientes, x0):\n",
    "    xn = np.array([x0**i for i in range(len(coeficientes))]) # creamos un arreglo con los valores de x^n\n",
    "    xn = xn[::-1] # invertimos el arreglo para que el primer elemento sea x^n y el último x^0\n",
    "    cumprod = np.cumprod([xn, coeficientes],axis=0) # multiplicamos los elementos de xn y coeficientes\n",
    "    return (sum(cumprod[1])) #sumamos los elementos de la multiplicación"
   ]
  },
  {
   "cell_type": "code",
   "execution_count": 98,
   "metadata": {},
   "outputs": [
    {
     "name": "stdout",
     "output_type": "stream",
     "text": [
      "13210720292\n",
      "13210720292\n"
     ]
    }
   ],
   "source": [
    "# Ejemplo: si queremos evaluar el polinomio 23x^5 + 54x^4 + 73x^3 + 2x^2 + 7x + 28 en x0 = 56, entonces:\n",
    "coeficientes = [23,54,73,2,7,28] # coeficientes del polinomio\n",
    "x0 = 56 # valor de x, para el cual queremos evaluar el polinomio\n",
    "\n",
    "eval_1 = evaluarPolinomio(coeficientes, x0)\n",
    "print(eval_1) # imprimimos el resultado de la evaluación\n",
    "\n",
    "## Ahora vamos a hacer lo mismo con la función de numpy poly1d para comparar resultados\n",
    "\n",
    "poly = np.poly1d(coeficientes) # creamos un polinomio con los coeficientes\n",
    "eval_2 = poly(x0)\n",
    "print(eval_2) # imprimimos el resultado de la evaluación"
   ]
  },
  {
   "cell_type": "code",
   "execution_count": 91,
   "metadata": {},
   "outputs": [
    {
     "name": "stdout",
     "output_type": "stream",
     "text": [
      "True\n"
     ]
    }
   ],
   "source": [
    "# comparamos los resultados de las dos evaluaciones\n",
    "print(eval == eval_2)\n",
    "# Resultado: iguales, por lo que ambas funciones realizan la misma tarea"
   ]
  },
  {
   "attachments": {},
   "cell_type": "markdown",
   "metadata": {},
   "source": [
    "### Ejercicio # 3\n",
    "- Crea una matriz (4 x 3) de números enteros generados aleatoriamente entre 0 y 10. \n",
    "- Reemplaza los dos primeros vectores renglón con escalares = 7. \n",
    "- Crea un nuevo arreglo (4 x 1) con puros unos y anéxalo con el método `append()` a la matriz anterior. \n",
    "- Imprime cada uno de los resultados parciales que vas generando"
   ]
  },
  {
   "cell_type": "code",
   "execution_count": 111,
   "metadata": {},
   "outputs": [
    {
     "name": "stdout",
     "output_type": "stream",
     "text": [
      "[[2 6 9]\n",
      " [9 1 7]\n",
      " [4 6 3]\n",
      " [8 9 6]]\n",
      "[[7 7 7]\n",
      " [7 7 7]\n",
      " [4 6 3]\n",
      " [8 9 6]]\n",
      "[[7. 7. 7. 1.]\n",
      " [7. 7. 7. 1.]\n",
      " [4. 6. 3. 1.]\n",
      " [8. 9. 6. 1.]]\n"
     ]
    }
   ],
   "source": [
    "# Creemos una matriz 4x3 con números aleatorios entre 0 y 10\n",
    "# (Asumimos que la matriz es de tipo entero)\n",
    "\n",
    "matriz = np.random.randint(0,10,(4,3))\n",
    "\n",
    "print(matriz)\n",
    "\n",
    "# reemplacemos los dos primeros vectores renglon con escalares =7\n",
    "\n",
    "matriz[0:2,:] = 7 \n",
    "\n",
    "print(matriz)\n",
    "\n",
    "# Vamos a crear un arreglo  de unos 4x1 y lo anexamos a la matriz con .append\n",
    "\n",
    "arreglo = np.ones((4,1))\n",
    "matriz = np.append(matriz, arreglo, axis=1)\n",
    "\n",
    "print(matriz)\n"
   ]
  }
 ],
 "metadata": {
  "kernelspec": {
   "display_name": "base",
   "language": "python",
   "name": "python3"
  },
  "language_info": {
   "codemirror_mode": {
    "name": "ipython",
    "version": 3
   },
   "file_extension": ".py",
   "mimetype": "text/x-python",
   "name": "python",
   "nbconvert_exporter": "python",
   "pygments_lexer": "ipython3",
   "version": "3.9.13"
  },
  "orig_nbformat": 4
 },
 "nbformat": 4,
 "nbformat_minor": 2
}

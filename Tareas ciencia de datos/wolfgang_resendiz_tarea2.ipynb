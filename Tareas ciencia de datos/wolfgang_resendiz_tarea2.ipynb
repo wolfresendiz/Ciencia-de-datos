{
 "cells": [
  {
   "attachments": {},
   "cell_type": "markdown",
   "metadata": {},
   "source": [
    "# Introducción a la ciencia de datos\n",
    "\n",
    "## Tarea 1 : Temas escenciales de Python\n"
   ]
  },
  {
   "cell_type": "markdown",
   "metadata": {},
   "source": [
    "### Ejercicio 1\n",
    "\n",
    "A partir de un diccionario, crea un contador del número de letras que usa una palabra"
   ]
  },
  {
   "cell_type": "code",
   "execution_count": 8,
   "metadata": {},
   "outputs": [
    {
     "name": "stdout",
     "output_type": "stream",
     "text": [
      "{'p': 1, 'a': 4, 'r': 4, 'n': 1, 'g': 1, 'i': 4, 'c': 2, 'u': 2, 't': 1, 'm': 1, 'o': 1}\n"
     ]
    }
   ],
   "source": [
    "palabra = \"parangaricutirimicuaro\"\n",
    "conteo = {}\n",
    "\n",
    "for letra in palabra:\n",
    "    if letra in conteo:\n",
    "        conteo[letra] += 1\n",
    "    else:\n",
    "        conteo[letra] = 1\n",
    "\n",
    "print(conteo)"
   ]
  },
  {
   "attachments": {},
   "cell_type": "markdown",
   "metadata": {},
   "source": [
    "### Ejercicio 2\n",
    "\n",
    "Los diccionarios tienen un método get que presenta una llave (key) y un valor de default. Si la llave aparece en el diccionario regresa el valor correspondiente, en caso contrario le asigna a la llave el valor de default. \n",
    "\n",
    " Ejemplo:"
   ]
  },
  {
   "cell_type": "code",
   "execution_count": 9,
   "metadata": {},
   "outputs": [
    {
     "name": "stdout",
     "output_type": "stream",
     "text": [
      "100\n",
      "0\n"
     ]
    }
   ],
   "source": [
    "counts = { 'chuck' : 1 , 'annie' : 42, 'jan': 100}\n",
    "print(counts.get('jan', 0))\n",
    "print(counts.get('tim', 0))"
   ]
  },
  {
   "attachments": {},
   "cell_type": "markdown",
   "metadata": {},
   "source": [
    "Utiliza este método para escribir la rutina del ejercicio 3 de forma más concisa."
   ]
  },
  {
   "cell_type": "code",
   "execution_count": null,
   "metadata": {},
   "outputs": [],
   "source": []
  },
  {
   "attachments": {},
   "cell_type": "markdown",
   "metadata": {},
   "source": [
    "### Ejercicio 3\n",
    "\n",
    " Usando una lista, el loop de while, y el comando len(lista) que mide el tamaño de una lista, calcular el valor promedio de los números que aparecen en una lista dada"
   ]
  },
  {
   "cell_type": "code",
   "execution_count": 15,
   "metadata": {},
   "outputs": [],
   "source": [
    "def promedio(lista):\n",
    "    suma = 0\n",
    "    x = 0\n",
    "    while x < len(lista):\n",
    "        suma = suma + lista[x]\n",
    "        x = x + 1\n",
    "    suma = suma / len(lista)\n",
    "    return suma"
   ]
  },
  {
   "attachments": {},
   "cell_type": "markdown",
   "metadata": {},
   "source": [
    "#### Pruebas"
   ]
  },
  {
   "cell_type": "code",
   "execution_count": 17,
   "metadata": {},
   "outputs": [
    {
     "name": "stdout",
     "output_type": "stream",
     "text": [
      "50.0\n",
      "65.0\n"
     ]
    }
   ],
   "source": [
    "numeros = [10,50,100,40]\n",
    "print(promedio(numeros))\n",
    "numeros = [10,50,100,40,50,60,70,80,90,100]\n",
    "print(promedio(numeros))"
   ]
  },
  {
   "attachments": {},
   "cell_type": "markdown",
   "metadata": {},
   "source": [
    "### Ejercicio 4\n",
    "Considera el siguiente código"
   ]
  },
  {
   "cell_type": "code",
   "execution_count": 21,
   "metadata": {},
   "outputs": [
    {
     "name": "stdout",
     "output_type": "stream",
     "text": [
      "119\n"
     ]
    }
   ],
   "source": [
    "list_of_ints_in_strings = ['42', '65', '12']\n",
    "list_of_ints = []\n",
    "for x in list_of_ints_in_strings:\n",
    "    list_of_ints.append(int(x))\n",
    "print(sum(list_of_ints))"
   ]
  },
  {
   "attachments": {},
   "cell_type": "markdown",
   "metadata": {},
   "source": [
    "**¿Qué es lo que hace este código?  ¿Cómo podrías reducir el código mediante una compresión de lista?**\n",
    "\n",
    "De una lista de números en caracteres: `list_of_ints_in_strings = ['42', '65', '12']`\n",
    "se convierte cada uno de los elementos a enteros para poder sumarlos e imprimir el resultado."
   ]
  },
  {
   "cell_type": "code",
   "execution_count": 22,
   "metadata": {},
   "outputs": [
    {
     "name": "stdout",
     "output_type": "stream",
     "text": [
      "119\n"
     ]
    }
   ],
   "source": [
    "list_of_ints_in_strings = ['42', '65', '12']\n",
    "list_of_ints = [int(x) for x in list_of_ints_in_strings]\n",
    "print(sum(list_of_ints))"
   ]
  },
  {
   "attachments": {},
   "cell_type": "markdown",
   "metadata": {},
   "source": [
    "\n",
    "**¿Cómo podrías excluir de la suma a los valores mayores a 60?**"
   ]
  },
  {
   "cell_type": "code",
   "execution_count": 23,
   "metadata": {},
   "outputs": [
    {
     "name": "stdout",
     "output_type": "stream",
     "text": [
      "54\n"
     ]
    }
   ],
   "source": [
    "list_of_ints_in_strings = ['42', '65', '12']\n",
    "list_of_ints = [int(x) for x in list_of_ints_in_strings if int(x) <= 60]\n",
    "print(sum(list_of_ints))"
   ]
  }
 ],
 "metadata": {
  "kernelspec": {
   "display_name": "base",
   "language": "python",
   "name": "python3"
  },
  "language_info": {
   "codemirror_mode": {
    "name": "ipython",
    "version": 3
   },
   "file_extension": ".py",
   "mimetype": "text/x-python",
   "name": "python",
   "nbconvert_exporter": "python",
   "pygments_lexer": "ipython3",
   "version": "3.9.13"
  },
  "orig_nbformat": 4,
  "vscode": {
   "interpreter": {
    "hash": "667312b6d7e1b3946129a753a4b595c62e9be05cab3d0876e3b695e7ac328ea7"
   }
  }
 },
 "nbformat": 4,
 "nbformat_minor": 2
}

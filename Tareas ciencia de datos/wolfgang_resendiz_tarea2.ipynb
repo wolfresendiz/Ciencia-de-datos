{
 "cells": [
  {
   "attachments": {},
   "cell_type": "markdown",
   "metadata": {},
   "source": [
    "# Introducción a la ciencia de datos\n",
    "\n",
    "## Tarea 1 : Temas escenciales de Python\n"
   ]
  },
  {
   "cell_type": "markdown",
   "metadata": {},
   "source": [
    "### Ejercicio 1\n",
    "\n",
    "A partir de un diccionario, crea un contador del número de letras que usa una palabra"
   ]
  },
  {
   "cell_type": "code",
   "execution_count": 8,
   "metadata": {},
   "outputs": [
    {
     "name": "stdout",
     "output_type": "stream",
     "text": [
      "{'p': 1, 'a': 4, 'r': 4, 'n': 1, 'g': 1, 'i': 4, 'c': 2, 'u': 2, 't': 1, 'm': 1, 'o': 1}\n"
     ]
    }
   ],
   "source": [
    "palabra = \"parangaricutirimicuaro\"\n",
    "conteo = {}\n",
    "\n",
    "for letra in palabra:\n",
    "    if letra in conteo:\n",
    "        conteo[letra] += 1\n",
    "    else:\n",
    "        conteo[letra] = 1\n",
    "\n",
    "print(conteo)"
   ]
  },
  {
   "attachments": {},
   "cell_type": "markdown",
   "metadata": {},
   "source": [
    "### Ejercicio 2\n",
    "Los diccionarios tienen un método get que presenta una llave (key) y un valor de default. Si la llave aparece en el diccionario regresa el valor correspondiente, en caso contrario le asigna a la llave el valor de default.  Ejemplo:\n",
    "\n",
    "```python\n",
    "counts = { 'chuck' : 1 , 'annie' : 42, 'jan': 100}\n",
    "print(counts.get('jan', 0))\n",
    "100\n",
    "print(counts.get('tim', 0))\n",
    "0\n",
    "```"
   ]
  }
 ],
 "metadata": {
  "kernelspec": {
   "display_name": "base",
   "language": "python",
   "name": "python3"
  },
  "language_info": {
   "codemirror_mode": {
    "name": "ipython",
    "version": 3
   },
   "file_extension": ".py",
   "mimetype": "text/x-python",
   "name": "python",
   "nbconvert_exporter": "python",
   "pygments_lexer": "ipython3",
   "version": "3.9.13"
  },
  "orig_nbformat": 4,
  "vscode": {
   "interpreter": {
    "hash": "667312b6d7e1b3946129a753a4b595c62e9be05cab3d0876e3b695e7ac328ea7"
   }
  }
 },
 "nbformat": 4,
 "nbformat_minor": 2
}
